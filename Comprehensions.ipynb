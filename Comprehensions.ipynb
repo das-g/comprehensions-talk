{
 "cells": [
  {
   "cell_type": "markdown",
   "metadata": {
    "slideshow": {
     "slide_type": "slide"
    }
   },
   "source": [
    "# Comprehensions "
   ]
  },
  {
   "cell_type": "markdown",
   "metadata": {
    "slideshow": {
     "slide_type": "slide"
    }
   },
   "source": [
    "## List Comprehensions\n",
    "\n",
    "* since **Python 2.0** (2000-10-16)"
   ]
  },
  {
   "cell_type": "markdown",
   "metadata": {
    "slideshow": {
     "slide_type": "fragment"
    }
   },
   "source": [
    "> \"[...] a Pythonic interpretation of a well-known notation for sets used by mathematicians.\""
   ]
  },
  {
   "cell_type": "markdown",
   "metadata": {
    "slideshow": {
     "slide_type": "fragment"
    }
   },
   "source": [
    "$${\\large\n",
    "    \\left\\{ x \\,\\middle|\\, x < 10 \\right\\}\n",
    "}$$"
   ]
  },
  {
   "cell_type": "markdown",
   "metadata": {},
   "source": [
    "> \"set of all $x$ such that $x > 10$\""
   ]
  },
  {
   "cell_type": "markdown",
   "metadata": {
    "slideshow": {
     "slide_type": "slide"
    }
   },
   "source": [
    "### Set notations in math\n",
    "\n",
    "<details>\n",
    "    <summary>What is this? <small>(click to reveal)</small></summary>\n",
    "    <p>Set of square numbers</p>\n",
    "</details>\n",
    "\n",
    "$${\\large\n",
    "    \\left\\{ 1, 4, 9, 16, 25, 36, \\ldots \\right\\}\n",
    "}$$"
   ]
  },
  {
   "cell_type": "markdown",
   "metadata": {
    "slideshow": {
     "slide_type": "fragment"
    }
   },
   "source": [
    "$${\\large\n",
    "    \\left\\{ 1^2, 2^2, 3^2, 4^2, 5^2, 6^2, \\ldots \\right\\}\n",
    "}$$"
   ]
  },
  {
   "cell_type": "markdown",
   "metadata": {
    "slideshow": {
     "slide_type": "fragment"
    }
   },
   "source": [
    "$${\\large\n",
    "    \\left\\{ x^2 \\,\\middle|\\, x \\in \\mathbb{N}\\right\\}\n",
    "}$$"
   ]
  },
  {
   "cell_type": "markdown",
   "metadata": {
    "slideshow": {
     "slide_type": "subslide"
    }
   },
   "source": [
    "#### Set-builder notation\n",
    "\n",
    "$${\\large\n",
    "    \\left\\{ x^2 \\,\\middle|\\, x \\in \\mathbb{N}\\right\\}\n",
    "}$$\n",
    "\n",
    "Read \"$|$\" as\n",
    "\n",
    "* \"such that\"<br />\n",
    "  or\n",
    "* \"for which\""
   ]
  },
  {
   "cell_type": "markdown",
   "metadata": {
    "slideshow": {
     "slide_type": "fragment"
    }
   },
   "source": [
    "Thus, for this example:\n",
    "\n",
    "> Set of (all) $x^2$, such that $x \\in \\mathbb{N}$\n",
    "\n",
    "or\n",
    "\n",
    "> Set of (all) $x^2$ for which $x \\in \\mathbb{N}$\n",
    "\n",
    "More on this notation: https://en.wikipedia.org/wiki/Set-builder_notation"
   ]
  },
  {
   "cell_type": "markdown",
   "metadata": {
    "slideshow": {
     "slide_type": "subslide"
    }
   },
   "source": [
    "$${\\large\n",
    "    \\big\\{ \\overbrace{x^2}^\\text{some expression on $x$} \\,\\big|\\, \\overbrace{x \\in \\mathbb{N}}^\\text{predicate for $x$} \\big\\}\n",
    "}$$\n"
   ]
  },
  {
   "cell_type": "markdown",
   "metadata": {
    "slideshow": {
     "slide_type": "fragment"
    }
   },
   "source": [
    "$${\\large\n",
    "    \\big[ \\underbrace{\\texttt{x * x}}_\\text{some expression on $x$}\\ \\texttt{ for }\\ \\underbrace{\\texttt{x}}_\\text{variable}\\ \\texttt{ in }\\ \\underbrace{\\texttt{range(1, 7)}}_\\text{a sequence} \\quad\\big]\n",
    "}$$"
   ]
  },
  {
   "cell_type": "code",
   "execution_count": null,
   "metadata": {
    "slideshow": {
     "slide_type": "subslide"
    }
   },
   "outputs": [],
   "source": [
    "[1, 4, 9, 16, 25, 36]"
   ]
  },
  {
   "cell_type": "code",
   "execution_count": null,
   "metadata": {},
   "outputs": [],
   "source": [
    "[1 * 1, 2 * 2, 3 * 3, 4 * 4, 5 * 5, 6 * 6]"
   ]
  },
  {
   "cell_type": "markdown",
   "metadata": {},
   "source": [
    "$${\\large\n",
    "    \\big[ \\underbrace{\\texttt{x * x}}_\\text{some expression on $x$}\\ \\texttt{ for }\\ \\underbrace{\\texttt{x}}_\\text{variable}\\ \\texttt{ in }\\ \\underbrace{\\texttt{range(1, 7)}}_\\text{a sequence} \\quad\\big]\n",
    "}$$"
   ]
  },
  {
   "cell_type": "code",
   "execution_count": null,
   "metadata": {},
   "outputs": [],
   "source": [
    "[x * x for x in range(1,7)]"
   ]
  },
  {
   "cell_type": "markdown",
   "metadata": {
    "slideshow": {
     "slide_type": "subslide"
    }
   },
   "source": [
    "The math example from the beginning:"
   ]
  },
  {
   "cell_type": "markdown",
   "metadata": {
    "slideshow": {
     "slide_type": "-"
    }
   },
   "source": [
    "$${\\large\n",
    "    \\big\\{ \\overbrace{x}^\\text{some expression on $x$} \\,\\big|\\, \\overbrace{x > 10}^\\text{predicate for $x$} \\big\\}\n",
    "}$$\n",
    "(some) universal set implied (often by context)"
   ]
  },
  {
   "cell_type": "markdown",
   "metadata": {
    "slideshow": {
     "slide_type": "fragment"
    }
   },
   "source": [
    "$${\\large\n",
    "    \\big\\{ \\overbrace{x}^\\text{some expression on $x$} \\,\\big|\\, \\overbrace{x > 10, x \\in \\mathbb{Z}}^\\text{predicate for $x$} \\big\\}\n",
    "}$$"
   ]
  },
  {
   "cell_type": "markdown",
   "metadata": {
    "slideshow": {
     "slide_type": "fragment"
    }
   },
   "source": [
    "$${\\large\n",
    "    \\big[ \\underbrace{\\texttt{x}}_\\text{some expression on $x$}\\ \\texttt{ for }\\ \\underbrace{\\texttt{x}}_\\text{variable}\\ \\texttt{ in }\\ \\underbrace{\\texttt{s}}_\\text{a sequence} \\texttt{if} \\underbrace{\\texttt{x > 10}}_\\text{condition for $x$} \\quad\\big]\n",
    "}$$"
   ]
  },
  {
   "cell_type": "markdown",
   "metadata": {
    "slideshow": {
     "slide_type": "subslide"
    }
   },
   "source": [
    "$${\\large\n",
    "    \\big[ \\underbrace{\\texttt{x}}_\\text{some expression on $x$}\\ \\texttt{ for }\\ \\underbrace{\\texttt{x}}_\\text{variable}\\ \\texttt{ in }\\ \\underbrace{\\texttt{s}}_\\text{a sequence} \\texttt{if} \\underbrace{\\texttt{x > 10}}_\\text{condition for $x$} \\quad\\big]\n",
    "}$$"
   ]
  },
  {
   "cell_type": "code",
   "execution_count": null,
   "metadata": {
    "slideshow": {
     "slide_type": "-"
    }
   },
   "outputs": [],
   "source": [
    "from random import randint\n",
    "\n",
    "s = [randint(-30, +30) for _ in range(25)]"
   ]
  },
  {
   "cell_type": "code",
   "execution_count": null,
   "metadata": {
    "slideshow": {
     "slide_type": "-"
    }
   },
   "outputs": [],
   "source": [
    "[x for x in s if x > 10]"
   ]
  },
  {
   "cell_type": "markdown",
   "metadata": {
    "slideshow": {
     "slide_type": "fragment"
    }
   },
   "source": [
    "Squares of natural numbers whose cube is between 10 and 100\n",
    "<!--\n",
    "[ n**2 for n in range(5) if 10 <= n**3 <= 100 ]\n",
    "-->"
   ]
  },
  {
   "cell_type": "code",
   "execution_count": null,
   "metadata": {},
   "outputs": [],
   "source": [
    "[n**2 for n in range(5) if 10 <= n**3 <= 100]"
   ]
  },
  {
   "cell_type": "markdown",
   "metadata": {
    "slideshow": {
     "slide_type": "slide"
    }
   },
   "source": [
    "### Not just for numbers"
   ]
  },
  {
   "cell_type": "code",
   "execution_count": null,
   "metadata": {
    "slideshow": {
     "slide_type": "-"
    }
   },
   "outputs": [],
   "source": [
    "sentence = \"I'm walking to the market where I'll be buying fruit\""
   ]
  },
  {
   "cell_type": "code",
   "execution_count": null,
   "metadata": {},
   "outputs": [],
   "source": [
    "sentence.split()"
   ]
  },
  {
   "cell_type": "code",
   "execution_count": null,
   "metadata": {
    "slideshow": {
     "slide_type": "-"
    }
   },
   "outputs": [],
   "source": [
    "[f\"I like {word}.\" for word in sentence.split() if word.endswith(\"ing\")]"
   ]
  },
  {
   "cell_type": "markdown",
   "metadata": {
    "slideshow": {
     "slide_type": "slide"
    }
   },
   "source": [
    "### List comprehensions as alternative to `map()` and `filter()`"
   ]
  },
  {
   "cell_type": "markdown",
   "metadata": {},
   "source": [
    "In Python 2.x:"
   ]
  },
  {
   "cell_type": "markdown",
   "metadata": {},
   "source": [
    "```python\n",
    "       map(f, S) == [f(x) for x in S        ]\n",
    "    filter(P, S) == [  x  for x in S if P(x)]\n",
    "```"
   ]
  },
  {
   "cell_type": "markdown",
   "metadata": {},
   "source": [
    "In general\n",
    "```python\n",
    "    [f(x) for x in S if P(x)]\n",
    "```\n",
    "is equivalent to\n",
    "```python\n",
    "          map(f, filter(P, S))   # Python 2\n",
    "    list( map(f, filter(P, S)) ) # Python 3\n",
    "```    "
   ]
  },
  {
   "cell_type": "markdown",
   "metadata": {
    "slideshow": {
     "slide_type": "subslide"
    }
   },
   "source": [
    "Let's find the ASCII codes of the capital letters in the following"
   ]
  },
  {
   "cell_type": "code",
   "execution_count": null,
   "metadata": {
    "scrolled": true,
    "slideshow": {
     "slide_type": "-"
    }
   },
   "outputs": [],
   "source": [
    "sentence = \"Guido and I are walking to the supermarket where we'll buy Spam.\""
   ]
  },
  {
   "cell_type": "code",
   "execution_count": null,
   "metadata": {
    "slideshow": {
     "slide_type": "fragment"
    }
   },
   "outputs": [],
   "source": [
    "map(ord, sentence)"
   ]
  },
  {
   "cell_type": "code",
   "execution_count": null,
   "metadata": {},
   "outputs": [],
   "source": [
    "list(_)"
   ]
  },
  {
   "cell_type": "markdown",
   "metadata": {
    "slideshow": {
     "slide_type": "fragment"
    }
   },
   "source": [
    "with\n",
    "```python\n",
    "       map(f, S) == [f(x) for x in S]\n",
    "```"
   ]
  },
  {
   "cell_type": "code",
   "execution_count": null,
   "metadata": {
    "slideshow": {
     "slide_type": "-"
    }
   },
   "outputs": [],
   "source": [
    "[ord(c) for c in sentence]"
   ]
  },
  {
   "cell_type": "code",
   "execution_count": null,
   "metadata": {
    "slideshow": {
     "slide_type": "subslide"
    }
   },
   "outputs": [],
   "source": [
    "sentence"
   ]
  },
  {
   "cell_type": "code",
   "execution_count": null,
   "metadata": {
    "slideshow": {
     "slide_type": "-"
    }
   },
   "outputs": [],
   "source": [
    "filter(str.isupper, sentence)"
   ]
  },
  {
   "cell_type": "code",
   "execution_count": null,
   "metadata": {},
   "outputs": [],
   "source": [
    "list(_)"
   ]
  },
  {
   "cell_type": "markdown",
   "metadata": {
    "slideshow": {
     "slide_type": "fragment"
    }
   },
   "source": [
    "with\n",
    "```python\n",
    "    filter(P, S) == [x for x in S if P(x)]\n",
    "```"
   ]
  },
  {
   "cell_type": "code",
   "execution_count": null,
   "metadata": {
    "slideshow": {
     "slide_type": "-"
    }
   },
   "outputs": [],
   "source": [
    "[c for c in sentence if str.isupper(c)]"
   ]
  },
  {
   "cell_type": "code",
   "execution_count": null,
   "metadata": {
    "slideshow": {
     "slide_type": "fragment"
    }
   },
   "outputs": [],
   "source": [
    "[c for c in sentence if c.isupper()]"
   ]
  },
  {
   "cell_type": "code",
   "execution_count": null,
   "metadata": {
    "slideshow": {
     "slide_type": "subslide"
    }
   },
   "outputs": [],
   "source": [
    "sentence"
   ]
  },
  {
   "cell_type": "code",
   "execution_count": null,
   "metadata": {},
   "outputs": [],
   "source": [
    "map(ord, filter(str.isupper, sentence))"
   ]
  },
  {
   "cell_type": "code",
   "execution_count": null,
   "metadata": {},
   "outputs": [],
   "source": [
    "list(_)"
   ]
  },
  {
   "cell_type": "markdown",
   "metadata": {
    "slideshow": {
     "slide_type": "fragment"
    }
   },
   "source": [
    "with\n",
    "```python\n",
    "    map(f, filter(P, S)) == [f(x) for x in S if P(x)]\n",
    "```"
   ]
  },
  {
   "cell_type": "code",
   "execution_count": null,
   "metadata": {
    "slideshow": {
     "slide_type": "-"
    }
   },
   "outputs": [],
   "source": [
    "[ord(c) for c in sentence if str.isupper(c)]"
   ]
  },
  {
   "cell_type": "code",
   "execution_count": null,
   "metadata": {
    "slideshow": {
     "slide_type": "fragment"
    }
   },
   "outputs": [],
   "source": [
    "[ord(c) for c in sentence if c.isupper()]"
   ]
  }
 ],
 "metadata": {
  "celltoolbar": "Slideshow",
  "kernelspec": {
   "display_name": "Python 3",
   "language": "python",
   "name": "python3"
  },
  "language_info": {
   "codemirror_mode": {
    "name": "ipython",
    "version": 3
   },
   "file_extension": ".py",
   "mimetype": "text/x-python",
   "name": "python",
   "nbconvert_exporter": "python",
   "pygments_lexer": "ipython3",
   "version": "3.6.4"
  }
 },
 "nbformat": 4,
 "nbformat_minor": 2
}
