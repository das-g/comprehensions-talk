{
 "cells": [
  {
   "cell_type": "markdown",
   "metadata": {
    "slideshow": {
     "slide_type": "slide"
    }
   },
   "source": [
    "# Comprehensions "
   ]
  },
  {
   "cell_type": "markdown",
   "metadata": {
    "slideshow": {
     "slide_type": "slide"
    }
   },
   "source": [
    "## List Comprehensions\n",
    "\n",
    "* since **Python 2.0** (2000-10-16)"
   ]
  },
  {
   "cell_type": "markdown",
   "metadata": {
    "slideshow": {
     "slide_type": "fragment"
    }
   },
   "source": [
    "> \"[...] a Pythonic interpretation of a well-known notation for sets used by mathematicians.\""
   ]
  },
  {
   "cell_type": "markdown",
   "metadata": {
    "slideshow": {
     "slide_type": "fragment"
    }
   },
   "source": [
    "$${\\large\n",
    "    \\left\\{ x \\,\\middle|\\, x < 10 \\right\\}\n",
    "}$$"
   ]
  },
  {
   "cell_type": "markdown",
   "metadata": {},
   "source": [
    "> \"set of all $x$ such that $x > 10$\""
   ]
  },
  {
   "cell_type": "markdown",
   "metadata": {
    "slideshow": {
     "slide_type": "slide"
    }
   },
   "source": [
    "### Set notations in math\n",
    "\n",
    "<details>\n",
    "    <summary>What is this? <small>(click to reveal)</small></summary>\n",
    "    <p>Set of square numbers</p>\n",
    "</details>\n",
    "\n",
    "$${\\large\n",
    "    \\left\\{ 1, 4, 9, 16, 25, 36, \\ldots \\right\\}\n",
    "}$$"
   ]
  },
  {
   "cell_type": "markdown",
   "metadata": {
    "slideshow": {
     "slide_type": "fragment"
    }
   },
   "source": [
    "$${\\large\n",
    "    \\left\\{ 1^2, 2^2, 3^2, 4^2, 5^2, 6^2, \\ldots \\right\\}\n",
    "}$$"
   ]
  },
  {
   "cell_type": "markdown",
   "metadata": {
    "slideshow": {
     "slide_type": "fragment"
    }
   },
   "source": [
    "$${\\large\n",
    "    \\left\\{ x^2 \\,\\middle|\\, x \\in \\mathbb{N}\\right\\}\n",
    "}$$"
   ]
  },
  {
   "cell_type": "markdown",
   "metadata": {
    "slideshow": {
     "slide_type": "subslide"
    }
   },
   "source": [
    "$${\\large\n",
    "    \\left\\{ x^2 \\,\\middle|\\, x \\in \\mathbb{N}\\right\\}\n",
    "}$$\n",
    "\n",
    "Read \"$|$\" as\n",
    "\n",
    "* \"such that\"<br />\n",
    "  or\n",
    "* \"for which\""
   ]
  },
  {
   "cell_type": "markdown",
   "metadata": {
    "slideshow": {
     "slide_type": "fragment"
    }
   },
   "source": [
    "Thus, for this example:\n",
    "\n",
    "> Set of (all) $x^2$, such that $x \\in \\mathbb{N}$\n",
    "\n",
    "or\n",
    "\n",
    "> Set of (all) $x^2$ for which $x \\in \\mathbb{N}$"
   ]
  },
  {
   "cell_type": "markdown",
   "metadata": {
    "slideshow": {
     "slide_type": "subslide"
    }
   },
   "source": [
    "$${\\large\n",
    "    \\left\\{ \\overbrace{x^2}^\\text{some expression on $x$} \\,\\middle|\\, \\overbrace{x \\in \\mathbb{N}}^\\text{predicate for $x$} \\right\\}\n",
    "}$$\n"
   ]
  },
  {
   "cell_type": "markdown",
   "metadata": {
    "slideshow": {
     "slide_type": "fragment"
    }
   },
   "source": [
    "$${\\large\n",
    "    \\left[ \\underbrace{\\text{x * x}}_\\text{some expression on $x$}\\ \\text{ for }\\ \\underbrace{\\text{x}}_\\text{variable}\\ \\text{ in }\\ \\underbrace{\\text{range(1, 7)}}_\\text{a sequence} \\right]\n",
    "}$$"
   ]
  },
  {
   "cell_type": "code",
   "execution_count": null,
   "metadata": {
    "slideshow": {
     "slide_type": "subslide"
    }
   },
   "outputs": [],
   "source": [
    "[1, 4, 9, 16, 25, 36]"
   ]
  },
  {
   "cell_type": "code",
   "execution_count": null,
   "metadata": {},
   "outputs": [],
   "source": [
    "[1 * 1, 2 * 2, 3 * 3, 4 * 4, 5 * 5, 6 * 6]"
   ]
  },
  {
   "cell_type": "markdown",
   "metadata": {},
   "source": [
    "$${\\large\n",
    "    \\left[ \\underbrace{\\text{x * x}}_\\text{some expression on $x$}\\ \\text{ for }\\ \\underbrace{\\text{x}}_\\text{variable}\\ \\text{ in }\\ \\underbrace{\\text{range(1, 7)}}_\\text{a sequence} \\right]\n",
    "}$$"
   ]
  },
  {
   "cell_type": "code",
   "execution_count": null,
   "metadata": {},
   "outputs": [],
   "source": [
    "[ x * x for x in range(1,7) ]"
   ]
  }
 ],
 "metadata": {
  "celltoolbar": "Slideshow",
  "kernelspec": {
   "display_name": "Python 3",
   "language": "python",
   "name": "python3"
  },
  "language_info": {
   "codemirror_mode": {
    "name": "ipython",
    "version": 3
   },
   "file_extension": ".py",
   "mimetype": "text/x-python",
   "name": "python",
   "nbconvert_exporter": "python",
   "pygments_lexer": "ipython3",
   "version": "3.6.4"
  }
 },
 "nbformat": 4,
 "nbformat_minor": 2
}
