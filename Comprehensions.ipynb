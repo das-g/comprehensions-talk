{
 "cells": [
  {
   "cell_type": "markdown",
   "metadata": {
    "slideshow": {
     "slide_type": "slide"
    }
   },
   "source": [
    "<center><h3>Raphael Das Gupta</h3></center>"
   ]
  },
  {
   "cell_type": "markdown",
   "metadata": {},
   "source": [
    "<img src='images/IFS_Institute-for-Software_RGB.jpg' />\n",
    "<img src='images/HSR_Logo_RGB_72.jpg' width='500' />"
   ]
  },
  {
   "cell_type": "markdown",
   "metadata": {
    "slideshow": {
     "slide_type": "subslide"
    }
   },
   "source": [
    "# GIS\n",
    "**G**eo**i**nformation **s**ystems\n",
    "![some colorful map](images/colorful_map.png)"
   ]
  },
  {
   "cell_type": "markdown",
   "metadata": {
    "slideshow": {
     "slide_type": "slide"
    }
   },
   "source": [
    "[![Binder](images/binder_badge.png)](https://mybinder.org/v2/gh/das-g/comprehensions-talk/master)\n",
    "Follow along on\n",
    "\n",
    "<big>https://mybinder.org/v2/gh/das-g/comprehensions-talk</big>\n",
    "\n",
    "# Comprehensions"
   ]
  },
  {
   "cell_type": "markdown",
   "metadata": {
    "slideshow": {
     "slide_type": "fragment"
    }
   },
   "source": [
    "inspired by (and partially ripped off of)\n",
    "\n",
    "### From List Comprehensions to Generator Expressions\n",
    "by Guido van Rossum [on \"The History of Python\"](http://python-history.blogspot.ch/2010/06/from-list-comprehensions-to-generator.html)"
   ]
  },
  {
   "cell_type": "markdown",
   "metadata": {
    "slideshow": {
     "slide_type": "slide"
    }
   },
   "source": [
    "## List Comprehensions ([PEP 202](https://www.python.org/dev/peps/pep-0202/))\n",
    "\n",
    "* since **Python 2.0** (2000-10-16)"
   ]
  },
  {
   "cell_type": "markdown",
   "metadata": {
    "slideshow": {
     "slide_type": "notes"
    }
   },
   "source": [
    "Date in parentheses is the release date.\n",
    "\n",
    "Source:\n",
    "* [Python 2.0](https://www.python.org/download/releases/2.0/) Release"
   ]
  },
  {
   "cell_type": "markdown",
   "metadata": {
    "slideshow": {
     "slide_type": "fragment"
    }
   },
   "source": [
    "> \"[...] a Pythonic interpretation of a well-known notation for sets used by mathematicians.\""
   ]
  },
  {
   "cell_type": "markdown",
   "metadata": {
    "slideshow": {
     "slide_type": "fragment"
    }
   },
   "source": [
    "$${\\large\n",
    "    \\left\\{ x \\,\\middle|\\, x > 10 \\right\\}\n",
    "}$$"
   ]
  },
  {
   "cell_type": "markdown",
   "metadata": {},
   "source": [
    "> \"set of all $x$ such that $x > 10$\""
   ]
  },
  {
   "cell_type": "markdown",
   "metadata": {
    "slideshow": {
     "slide_type": "slide"
    }
   },
   "source": [
    "### Set notations in math\n",
    "\n",
    "<details>\n",
    "    <summary>What is this? <small>(click to reveal)</small></summary>\n",
    "    <p>Set of square numbers</p>\n",
    "</details>\n",
    "\n",
    "$${\\large\n",
    "    \\left\\{ 1, 4, 9, 16, 25, 36, \\ldots \\right\\}\n",
    "}$$"
   ]
  },
  {
   "cell_type": "markdown",
   "metadata": {
    "slideshow": {
     "slide_type": "fragment"
    }
   },
   "source": [
    "$${\\large\n",
    "    \\left\\{ 1^2, 2^2, 3^2, 4^2, 5^2, 6^2, \\ldots \\right\\}\n",
    "}$$"
   ]
  },
  {
   "cell_type": "markdown",
   "metadata": {
    "slideshow": {
     "slide_type": "fragment"
    }
   },
   "source": [
    "$${\\large\n",
    "    \\left\\{ x^2 \\,\\middle|\\, x \\in \\mathbb{N}\\right\\}\n",
    "}$$"
   ]
  },
  {
   "cell_type": "markdown",
   "metadata": {
    "slideshow": {
     "slide_type": "subslide"
    }
   },
   "source": [
    "#### Set-builder notation\n",
    "\n",
    "$${\\large\n",
    "    \\left\\{ x^2 \\,\\middle|\\, x \\in \\mathbb{N}\\right\\}\n",
    "}$$\n",
    "\n",
    "Read \"$|$\" as\n",
    "\n",
    "* \"such that\"<br />\n",
    "  or\n",
    "* \"for which\""
   ]
  },
  {
   "cell_type": "markdown",
   "metadata": {
    "slideshow": {
     "slide_type": "fragment"
    }
   },
   "source": [
    "Thus, for this example:\n",
    "\n",
    "> Set of (all) $x^2$, such that $x \\in \\mathbb{N}$\n",
    "\n",
    "or\n",
    "\n",
    "> Set of (all) $x^2$ for which $x \\in \\mathbb{N}$\n",
    "\n",
    "More on this notation: https://en.wikipedia.org/wiki/Set-builder_notation"
   ]
  },
  {
   "cell_type": "markdown",
   "metadata": {
    "slideshow": {
     "slide_type": "subslide"
    }
   },
   "source": [
    "$${\\large\n",
    "    \\big\\{ \\overbrace{x^2}^\\text{some expression on $x$} \\,\\big|\\, \\overbrace{x \\in \\mathbb{N}}^\\text{predicate for $x$} \\big\\}\n",
    "}$$\n"
   ]
  },
  {
   "cell_type": "markdown",
   "metadata": {
    "slideshow": {
     "slide_type": "notes"
    }
   },
   "source": [
    "In math, the curly braces (\"$\\{$\" and \"$\\}$\") denote that this defines a set. Often, the predicate affirms a membership in another set.\n",
    "\n",
    "But Python 2.0 **didn't have sets**. (The built-in `set` type and `set()` function were added with [PEP 218](https://www.python.org/dev/peps/pep-0218/) in [Python 2.4](https://docs.python.org/dev/whatsnew/2.4.html#pep-218-built-in-set-objects), [released 2004-11-30](https://www.python.org/download/releases/2.4/). Set literals of the form `{1, 2, 3}` were added yet later.)\n",
    "\n",
    "But with list comprehensions we can use a similar concept to create lists:"
   ]
  },
  {
   "cell_type": "markdown",
   "metadata": {
    "slideshow": {
     "slide_type": "fragment"
    }
   },
   "source": [
    "$${\\large\n",
    "    \\big[ \\underbrace{\\texttt{x * x}}_\\text{some expression on $x$}\\ \\texttt{ for }\\ \\underbrace{\\texttt{x}}_\\text{variable}\\ \\texttt{ in }\\ \\underbrace{\\texttt{range(1, 7)}}_\\text{an iterable} \\quad\\big]\n",
    "}$$"
   ]
  },
  {
   "cell_type": "markdown",
   "metadata": {
    "slideshow": {
     "slide_type": "notes"
    }
   },
   "source": [
    "An **itearable** is anything over that you can iterate over (e.g., use it in a `for` loop)."
   ]
  },
  {
   "cell_type": "code",
   "execution_count": 38,
   "metadata": {
    "slideshow": {
     "slide_type": "subslide"
    }
   },
   "outputs": [
    {
     "data": {
      "text/plain": [
       "[1, 4, 9, 16, 25, 36]"
      ]
     },
     "execution_count": 38,
     "metadata": {},
     "output_type": "execute_result"
    }
   ],
   "source": [
    "[1, 4, 9, 16, 25, 36]"
   ]
  },
  {
   "cell_type": "code",
   "execution_count": 39,
   "metadata": {},
   "outputs": [
    {
     "data": {
      "text/plain": [
       "[1, 4, 9, 16, 25, 36]"
      ]
     },
     "execution_count": 39,
     "metadata": {},
     "output_type": "execute_result"
    }
   ],
   "source": [
    "[1 * 1, 2 * 2, 3 * 3, 4 * 4, 5 * 5, 6 * 6]"
   ]
  },
  {
   "cell_type": "markdown",
   "metadata": {},
   "source": [
    "$${\\large\n",
    "    \\big[ \\underbrace{\\texttt{x * x}}_\\text{some expression on $x$}\\ \\texttt{ for }\\ \\underbrace{\\texttt{x}}_\\text{variable}\\ \\texttt{ in }\\ \\underbrace{\\texttt{range(1, 7)}}_\\text{an iterable} \\quad\\big]\n",
    "}$$"
   ]
  },
  {
   "cell_type": "code",
   "execution_count": 40,
   "metadata": {},
   "outputs": [
    {
     "data": {
      "text/plain": [
       "[1, 4, 9, 16, 25, 36]"
      ]
     },
     "execution_count": 40,
     "metadata": {},
     "output_type": "execute_result"
    }
   ],
   "source": [
    "[x * x for x in range(1,7)]"
   ]
  },
  {
   "cell_type": "markdown",
   "metadata": {
    "slideshow": {
     "slide_type": "subslide"
    }
   },
   "source": [
    "The math example from the beginning:"
   ]
  },
  {
   "cell_type": "markdown",
   "metadata": {
    "slideshow": {
     "slide_type": "-"
    }
   },
   "source": [
    "$${\\large\n",
    "    \\big\\{ \\overbrace{x}^\\text{some expression on $x$} \\,\\big|\\, \\overbrace{x > 10}^\\text{predicate for $x$} \\big\\}\n",
    "}$$\n",
    "(some) universal set implied (often by context)"
   ]
  },
  {
   "cell_type": "markdown",
   "metadata": {
    "slideshow": {
     "slide_type": "fragment"
    }
   },
   "source": [
    "$${\\large\n",
    "    \\big\\{ \\overbrace{x}^\\text{some expression on $x$} \\,\\big|\\, \\overbrace{x > 10, x \\in \\mathbb{Z}}^\\text{predicate for $x$} \\big\\}\n",
    "}$$"
   ]
  },
  {
   "cell_type": "markdown",
   "metadata": {
    "slideshow": {
     "slide_type": "fragment"
    }
   },
   "source": [
    "$${\\large\n",
    "    \\big[ \\underbrace{\\texttt{x}}_\\text{some expression on $x$}\\ \\texttt{ for }\\ \\underbrace{\\texttt{x}}_\\text{variable}\\ \\texttt{ in }\\ \\underbrace{\\texttt{s}}_\\text{an iterable} \\texttt{if} \\underbrace{\\texttt{x > 10}}_\\text{condition for $x$} \\quad\\big]\n",
    "}$$"
   ]
  },
  {
   "cell_type": "markdown",
   "metadata": {
    "slideshow": {
     "slide_type": "subslide"
    }
   },
   "source": [
    "$${\\large\n",
    "    \\big[ \\underbrace{\\texttt{x}}_\\text{some expression on $x$}\\ \\texttt{ for }\\ \\underbrace{\\texttt{x}}_\\text{variable}\\ \\texttt{ in }\\ \\underbrace{\\texttt{s}}_\\text{an iterable} \\texttt{if} \\underbrace{\\texttt{x > 10}}_\\text{condition for $x$} \\quad\\big]\n",
    "}$$"
   ]
  },
  {
   "cell_type": "code",
   "execution_count": 41,
   "metadata": {
    "slideshow": {
     "slide_type": "-"
    }
   },
   "outputs": [],
   "source": [
    "from random import randint\n",
    "\n",
    "s = [randint(-30, +30) for _ in range(25)]"
   ]
  },
  {
   "cell_type": "code",
   "execution_count": 42,
   "metadata": {
    "slideshow": {
     "slide_type": "-"
    }
   },
   "outputs": [
    {
     "data": {
      "text/plain": [
       "[29, 14, 23, 20, 25, 18, 22, 16, 20, 11, 14]"
      ]
     },
     "execution_count": 42,
     "metadata": {},
     "output_type": "execute_result"
    }
   ],
   "source": [
    "[x for x in s if x > 10]"
   ]
  },
  {
   "cell_type": "markdown",
   "metadata": {
    "slideshow": {
     "slide_type": "fragment"
    }
   },
   "source": [
    "Squares of natural numbers whose cube is between 10 and 100\n",
    "<!--\n",
    "[ n**2 for n in range(5) if 10 <= n**3 <= 100 ]\n",
    "-->"
   ]
  },
  {
   "cell_type": "code",
   "execution_count": 43,
   "metadata": {},
   "outputs": [
    {
     "data": {
      "text/plain": [
       "[9, 16]"
      ]
     },
     "execution_count": 43,
     "metadata": {},
     "output_type": "execute_result"
    }
   ],
   "source": [
    "[n**2 for n in range(5) if 10 <= n**3 <= 100]"
   ]
  },
  {
   "cell_type": "markdown",
   "metadata": {
    "slideshow": {
     "slide_type": "slide"
    }
   },
   "source": [
    "### Not just for numbers"
   ]
  },
  {
   "cell_type": "code",
   "execution_count": 44,
   "metadata": {
    "slideshow": {
     "slide_type": "-"
    }
   },
   "outputs": [],
   "source": [
    "sentence = \"I'm walking to the market where I'll be buying fruit\""
   ]
  },
  {
   "cell_type": "code",
   "execution_count": 45,
   "metadata": {},
   "outputs": [
    {
     "data": {
      "text/plain": [
       "[\"I'm\",\n",
       " 'walking',\n",
       " 'to',\n",
       " 'the',\n",
       " 'market',\n",
       " 'where',\n",
       " \"I'll\",\n",
       " 'be',\n",
       " 'buying',\n",
       " 'fruit']"
      ]
     },
     "execution_count": 45,
     "metadata": {},
     "output_type": "execute_result"
    }
   ],
   "source": [
    "sentence.split()"
   ]
  },
  {
   "cell_type": "code",
   "execution_count": 46,
   "metadata": {
    "slideshow": {
     "slide_type": "-"
    }
   },
   "outputs": [
    {
     "data": {
      "text/plain": [
       "['I like walking.', 'I like buying.']"
      ]
     },
     "execution_count": 46,
     "metadata": {},
     "output_type": "execute_result"
    }
   ],
   "source": [
    "[f\"I like {word}.\" for word in sentence.split() if word.endswith(\"ing\")]"
   ]
  },
  {
   "cell_type": "markdown",
   "metadata": {
    "slideshow": {
     "slide_type": "slide"
    }
   },
   "source": [
    "### List comprehensions as alternative to `map()` and `filter()`"
   ]
  },
  {
   "cell_type": "markdown",
   "metadata": {},
   "source": [
    "In Python 2.x:"
   ]
  },
  {
   "cell_type": "markdown",
   "metadata": {},
   "source": [
    "```python\n",
    "       map(f, S) == [f(x) for x in S        ]\n",
    "    filter(P, S) == [  x  for x in S if P(x)]\n",
    "```"
   ]
  },
  {
   "cell_type": "markdown",
   "metadata": {},
   "source": [
    "In general\n",
    "```python\n",
    "    [f(x) for x in S if P(x)]\n",
    "```\n",
    "is equivalent to\n",
    "```python\n",
    "          map(f, filter(P, S))   # Python 2\n",
    "    list( map(f, filter(P, S)) ) # Python 3\n",
    "```    "
   ]
  },
  {
   "cell_type": "markdown",
   "metadata": {
    "slideshow": {
     "slide_type": "subslide"
    }
   },
   "source": [
    "Let's find the ASCII codes of the capital letters in the following"
   ]
  },
  {
   "cell_type": "code",
   "execution_count": 47,
   "metadata": {
    "scrolled": true,
    "slideshow": {
     "slide_type": "-"
    }
   },
   "outputs": [],
   "source": [
    "sentence = \"Guido and I are walking to the supermarket where we'll buy Spam.\""
   ]
  },
  {
   "cell_type": "code",
   "execution_count": 48,
   "metadata": {
    "slideshow": {
     "slide_type": "fragment"
    }
   },
   "outputs": [
    {
     "data": {
      "text/plain": [
       "<map at 0x7f61946f29e8>"
      ]
     },
     "execution_count": 48,
     "metadata": {},
     "output_type": "execute_result"
    }
   ],
   "source": [
    "map(ord, sentence)"
   ]
  },
  {
   "cell_type": "code",
   "execution_count": 49,
   "metadata": {
    "scrolled": true
   },
   "outputs": [
    {
     "data": {
      "text/plain": [
       "[71,\n",
       " 117,\n",
       " 105,\n",
       " 100,\n",
       " 111,\n",
       " 32,\n",
       " 97,\n",
       " 110,\n",
       " 100,\n",
       " 32,\n",
       " 73,\n",
       " 32,\n",
       " 97,\n",
       " 114,\n",
       " 101,\n",
       " 32,\n",
       " 119,\n",
       " 97,\n",
       " 108,\n",
       " 107,\n",
       " 105,\n",
       " 110,\n",
       " 103,\n",
       " 32,\n",
       " 116,\n",
       " 111,\n",
       " 32,\n",
       " 116,\n",
       " 104,\n",
       " 101,\n",
       " 32,\n",
       " 115,\n",
       " 117,\n",
       " 112,\n",
       " 101,\n",
       " 114,\n",
       " 109,\n",
       " 97,\n",
       " 114,\n",
       " 107,\n",
       " 101,\n",
       " 116,\n",
       " 32,\n",
       " 119,\n",
       " 104,\n",
       " 101,\n",
       " 114,\n",
       " 101,\n",
       " 32,\n",
       " 119,\n",
       " 101,\n",
       " 39,\n",
       " 108,\n",
       " 108,\n",
       " 32,\n",
       " 98,\n",
       " 117,\n",
       " 121,\n",
       " 32,\n",
       " 83,\n",
       " 112,\n",
       " 97,\n",
       " 109,\n",
       " 46]"
      ]
     },
     "execution_count": 49,
     "metadata": {},
     "output_type": "execute_result"
    }
   ],
   "source": [
    "list(_)"
   ]
  },
  {
   "cell_type": "markdown",
   "metadata": {
    "slideshow": {
     "slide_type": "fragment"
    }
   },
   "source": [
    "with\n",
    "```python\n",
    "       map(f, S) == [f(x) for x in S]\n",
    "```"
   ]
  },
  {
   "cell_type": "code",
   "execution_count": 50,
   "metadata": {
    "scrolled": true,
    "slideshow": {
     "slide_type": "-"
    }
   },
   "outputs": [
    {
     "data": {
      "text/plain": [
       "[71,\n",
       " 117,\n",
       " 105,\n",
       " 100,\n",
       " 111,\n",
       " 32,\n",
       " 97,\n",
       " 110,\n",
       " 100,\n",
       " 32,\n",
       " 73,\n",
       " 32,\n",
       " 97,\n",
       " 114,\n",
       " 101,\n",
       " 32,\n",
       " 119,\n",
       " 97,\n",
       " 108,\n",
       " 107,\n",
       " 105,\n",
       " 110,\n",
       " 103,\n",
       " 32,\n",
       " 116,\n",
       " 111,\n",
       " 32,\n",
       " 116,\n",
       " 104,\n",
       " 101,\n",
       " 32,\n",
       " 115,\n",
       " 117,\n",
       " 112,\n",
       " 101,\n",
       " 114,\n",
       " 109,\n",
       " 97,\n",
       " 114,\n",
       " 107,\n",
       " 101,\n",
       " 116,\n",
       " 32,\n",
       " 119,\n",
       " 104,\n",
       " 101,\n",
       " 114,\n",
       " 101,\n",
       " 32,\n",
       " 119,\n",
       " 101,\n",
       " 39,\n",
       " 108,\n",
       " 108,\n",
       " 32,\n",
       " 98,\n",
       " 117,\n",
       " 121,\n",
       " 32,\n",
       " 83,\n",
       " 112,\n",
       " 97,\n",
       " 109,\n",
       " 46]"
      ]
     },
     "execution_count": 50,
     "metadata": {},
     "output_type": "execute_result"
    }
   ],
   "source": [
    "[ord(c) for c in sentence]"
   ]
  },
  {
   "cell_type": "code",
   "execution_count": 51,
   "metadata": {
    "slideshow": {
     "slide_type": "subslide"
    }
   },
   "outputs": [
    {
     "data": {
      "text/plain": [
       "\"Guido and I are walking to the supermarket where we'll buy Spam.\""
      ]
     },
     "execution_count": 51,
     "metadata": {},
     "output_type": "execute_result"
    }
   ],
   "source": [
    "sentence"
   ]
  },
  {
   "cell_type": "code",
   "execution_count": 52,
   "metadata": {
    "slideshow": {
     "slide_type": "-"
    }
   },
   "outputs": [
    {
     "data": {
      "text/plain": [
       "<filter at 0x7f61946f2898>"
      ]
     },
     "execution_count": 52,
     "metadata": {},
     "output_type": "execute_result"
    }
   ],
   "source": [
    "filter(str.isupper, sentence)"
   ]
  },
  {
   "cell_type": "code",
   "execution_count": 53,
   "metadata": {},
   "outputs": [
    {
     "data": {
      "text/plain": [
       "['G', 'I', 'S']"
      ]
     },
     "execution_count": 53,
     "metadata": {},
     "output_type": "execute_result"
    }
   ],
   "source": [
    "list(_)"
   ]
  },
  {
   "cell_type": "markdown",
   "metadata": {
    "slideshow": {
     "slide_type": "fragment"
    }
   },
   "source": [
    "with\n",
    "```python\n",
    "    filter(P, S) == [x for x in S if P(x)]\n",
    "```"
   ]
  },
  {
   "cell_type": "code",
   "execution_count": 54,
   "metadata": {
    "slideshow": {
     "slide_type": "-"
    }
   },
   "outputs": [
    {
     "data": {
      "text/plain": [
       "['G', 'I', 'S']"
      ]
     },
     "execution_count": 54,
     "metadata": {},
     "output_type": "execute_result"
    }
   ],
   "source": [
    "[c for c in sentence if str.isupper(c)]"
   ]
  },
  {
   "cell_type": "code",
   "execution_count": 55,
   "metadata": {
    "slideshow": {
     "slide_type": "fragment"
    }
   },
   "outputs": [
    {
     "data": {
      "text/plain": [
       "['G', 'I', 'S']"
      ]
     },
     "execution_count": 55,
     "metadata": {},
     "output_type": "execute_result"
    }
   ],
   "source": [
    "[c for c in sentence if c.isupper()]"
   ]
  },
  {
   "cell_type": "code",
   "execution_count": 56,
   "metadata": {
    "slideshow": {
     "slide_type": "subslide"
    }
   },
   "outputs": [
    {
     "data": {
      "text/plain": [
       "\"Guido and I are walking to the supermarket where we'll buy Spam.\""
      ]
     },
     "execution_count": 56,
     "metadata": {},
     "output_type": "execute_result"
    }
   ],
   "source": [
    "sentence"
   ]
  },
  {
   "cell_type": "code",
   "execution_count": 57,
   "metadata": {},
   "outputs": [
    {
     "data": {
      "text/plain": [
       "<map at 0x7f61946f2b38>"
      ]
     },
     "execution_count": 57,
     "metadata": {},
     "output_type": "execute_result"
    }
   ],
   "source": [
    "map(ord, filter(str.isupper, sentence))"
   ]
  },
  {
   "cell_type": "code",
   "execution_count": 58,
   "metadata": {},
   "outputs": [
    {
     "data": {
      "text/plain": [
       "[71, 73, 83]"
      ]
     },
     "execution_count": 58,
     "metadata": {},
     "output_type": "execute_result"
    }
   ],
   "source": [
    "list(_)"
   ]
  },
  {
   "cell_type": "markdown",
   "metadata": {
    "slideshow": {
     "slide_type": "fragment"
    }
   },
   "source": [
    "with\n",
    "```python\n",
    "    map(f, filter(P, S)) == [f(x) for x in S if P(x)]\n",
    "```"
   ]
  },
  {
   "cell_type": "code",
   "execution_count": 59,
   "metadata": {
    "slideshow": {
     "slide_type": "-"
    }
   },
   "outputs": [
    {
     "data": {
      "text/plain": [
       "[71, 73, 83]"
      ]
     },
     "execution_count": 59,
     "metadata": {},
     "output_type": "execute_result"
    }
   ],
   "source": [
    "[ord(c) for c in sentence if str.isupper(c)]"
   ]
  },
  {
   "cell_type": "code",
   "execution_count": 60,
   "metadata": {
    "slideshow": {
     "slide_type": "fragment"
    }
   },
   "outputs": [
    {
     "data": {
      "text/plain": [
       "[71, 73, 83]"
      ]
     },
     "execution_count": 60,
     "metadata": {},
     "output_type": "execute_result"
    }
   ],
   "source": [
    "[ord(c) for c in sentence if c.isupper()]"
   ]
  },
  {
   "cell_type": "code",
   "execution_count": 61,
   "metadata": {
    "slideshow": {
     "slide_type": "fragment"
    }
   },
   "outputs": [
    {
     "data": {
      "text/plain": [
       "'GIS'"
      ]
     },
     "execution_count": 61,
     "metadata": {},
     "output_type": "execute_result"
    }
   ],
   "source": [
    "# convert them back\n",
    "''.join(map(chr, _))"
   ]
  },
  {
   "cell_type": "markdown",
   "metadata": {
    "slideshow": {
     "slide_type": "slide"
    }
   },
   "source": [
    "Interlude\n",
    "\n",
    "## Beyond lists"
   ]
  },
  {
   "cell_type": "markdown",
   "metadata": {
    "slideshow": {
     "slide_type": "subslide"
    }
   },
   "source": [
    "## Dictionary Comprehensions ([PEP 274](https://www.python.org/dev/peps/pep-0274/))\n",
    "\n",
    "* since **Python 3.0** (2008-12-03)\n",
    "* since **Python 2.7** (2010-07-03)"
   ]
  },
  {
   "cell_type": "markdown",
   "metadata": {
    "slideshow": {
     "slide_type": "notes"
    }
   },
   "source": [
    "Sources\n",
    "* [Python 3.0 Release](https://www.python.org/download/releases/3.0/)\n",
    "    * [What’s New In Python 3.0](https://docs.python.org/3.0/whatsnew/3.0.html) &rarr; [New Syntax](https://docs.python.org/3.0/whatsnew/3.0.html#new-syntax)\n",
    "\n",
    "* [Python 2.7.4 Release](https://www.python.org/download/releases/2.7/)\n",
    "    * [What’s New in Python 2.7](https://docs.python.org/dev/whatsnew/2.7.html) &rarr; [Python 3.1 Features](https://docs.python.org/dev/whatsnew/2.7.html#python-3-1-features)\n",
    "    * [What’s New in Python 2.7](https://docs.python.org/dev/whatsnew/2.7.html) &rarr; [Other Language Changes](https://docs.python.org/dev/whatsnew/2.7.html#other-language-changes)"
   ]
  },
  {
   "cell_type": "code",
   "execution_count": 62,
   "metadata": {
    "scrolled": true,
    "slideshow": {
     "slide_type": "subslide"
    }
   },
   "outputs": [
    {
     "data": {
      "text/plain": [
       "{9: '\\t',\n",
       " 10: '\\n',\n",
       " 11: '\\x0b',\n",
       " 12: '\\x0c',\n",
       " 13: '\\r',\n",
       " 32: ' ',\n",
       " 33: '!',\n",
       " 34: '\"',\n",
       " 35: '#',\n",
       " 36: '$',\n",
       " 37: '%',\n",
       " 38: '&',\n",
       " 39: \"'\",\n",
       " 40: '(',\n",
       " 41: ')',\n",
       " 42: '*',\n",
       " 43: '+',\n",
       " 44: ',',\n",
       " 45: '-',\n",
       " 46: '.',\n",
       " 47: '/',\n",
       " 48: '0',\n",
       " 49: '1',\n",
       " 50: '2',\n",
       " 51: '3',\n",
       " 52: '4',\n",
       " 53: '5',\n",
       " 54: '6',\n",
       " 55: '7',\n",
       " 56: '8',\n",
       " 57: '9',\n",
       " 58: ':',\n",
       " 59: ';',\n",
       " 60: '<',\n",
       " 61: '=',\n",
       " 62: '>',\n",
       " 63: '?',\n",
       " 64: '@',\n",
       " 65: 'A',\n",
       " 66: 'B',\n",
       " 67: 'C',\n",
       " 68: 'D',\n",
       " 69: 'E',\n",
       " 70: 'F',\n",
       " 71: 'G',\n",
       " 72: 'H',\n",
       " 73: 'I',\n",
       " 74: 'J',\n",
       " 75: 'K',\n",
       " 76: 'L',\n",
       " 77: 'M',\n",
       " 78: 'N',\n",
       " 79: 'O',\n",
       " 80: 'P',\n",
       " 81: 'Q',\n",
       " 82: 'R',\n",
       " 83: 'S',\n",
       " 84: 'T',\n",
       " 85: 'U',\n",
       " 86: 'V',\n",
       " 87: 'W',\n",
       " 88: 'X',\n",
       " 89: 'Y',\n",
       " 90: 'Z',\n",
       " 91: '[',\n",
       " 92: '\\\\',\n",
       " 93: ']',\n",
       " 94: '^',\n",
       " 95: '_',\n",
       " 96: '`',\n",
       " 97: 'a',\n",
       " 98: 'b',\n",
       " 99: 'c',\n",
       " 100: 'd',\n",
       " 101: 'e',\n",
       " 102: 'f',\n",
       " 103: 'g',\n",
       " 104: 'h',\n",
       " 105: 'i',\n",
       " 106: 'j',\n",
       " 107: 'k',\n",
       " 108: 'l',\n",
       " 109: 'm',\n",
       " 110: 'n',\n",
       " 111: 'o',\n",
       " 112: 'p',\n",
       " 113: 'q',\n",
       " 114: 'r',\n",
       " 115: 's',\n",
       " 116: 't',\n",
       " 117: 'u',\n",
       " 118: 'v',\n",
       " 119: 'w',\n",
       " 120: 'x',\n",
       " 121: 'y',\n",
       " 122: 'z',\n",
       " 123: '{',\n",
       " 124: '|',\n",
       " 125: '}',\n",
       " 126: '~'}"
      ]
     },
     "execution_count": 62,
     "metadata": {},
     "output_type": "execute_result"
    }
   ],
   "source": [
    "from string import printable\n",
    "\n",
    "ascii_table = {ord(c): c for c in printable}\n",
    "\n",
    "ascii_table"
   ]
  },
  {
   "cell_type": "markdown",
   "metadata": {
    "slideshow": {
     "slide_type": "notes"
    }
   },
   "source": [
    "use unpacking and `.items()` to access keys and values when the iterable is a dict:"
   ]
  },
  {
   "cell_type": "code",
   "execution_count": 63,
   "metadata": {
    "scrolled": true,
    "slideshow": {
     "slide_type": "subslide"
    }
   },
   "outputs": [
    {
     "data": {
      "text/plain": [
       "{'\\t': 9,\n",
       " '\\n': 10,\n",
       " '\\x0b': 11,\n",
       " '\\x0c': 12,\n",
       " '\\r': 13,\n",
       " ' ': 32,\n",
       " '!': 33,\n",
       " '\"': 34,\n",
       " '#': 35,\n",
       " '$': 36,\n",
       " '%': 37,\n",
       " '&': 38,\n",
       " \"'\": 39,\n",
       " '(': 40,\n",
       " ')': 41,\n",
       " '*': 42,\n",
       " '+': 43,\n",
       " ',': 44,\n",
       " '-': 45,\n",
       " '.': 46,\n",
       " '/': 47,\n",
       " '0': 48,\n",
       " '1': 49,\n",
       " '2': 50,\n",
       " '3': 51,\n",
       " '4': 52,\n",
       " '5': 53,\n",
       " '6': 54,\n",
       " '7': 55,\n",
       " '8': 56,\n",
       " '9': 57,\n",
       " ':': 58,\n",
       " ';': 59,\n",
       " '<': 60,\n",
       " '=': 61,\n",
       " '>': 62,\n",
       " '?': 63,\n",
       " '@': 64,\n",
       " 'A': 65,\n",
       " 'B': 66,\n",
       " 'C': 67,\n",
       " 'D': 68,\n",
       " 'E': 69,\n",
       " 'F': 70,\n",
       " 'G': 71,\n",
       " 'H': 72,\n",
       " 'I': 73,\n",
       " 'J': 74,\n",
       " 'K': 75,\n",
       " 'L': 76,\n",
       " 'M': 77,\n",
       " 'N': 78,\n",
       " 'O': 79,\n",
       " 'P': 80,\n",
       " 'Q': 81,\n",
       " 'R': 82,\n",
       " 'S': 83,\n",
       " 'T': 84,\n",
       " 'U': 85,\n",
       " 'V': 86,\n",
       " 'W': 87,\n",
       " 'X': 88,\n",
       " 'Y': 89,\n",
       " 'Z': 90,\n",
       " '[': 91,\n",
       " '\\\\': 92,\n",
       " ']': 93,\n",
       " '^': 94,\n",
       " '_': 95,\n",
       " '`': 96,\n",
       " 'a': 97,\n",
       " 'b': 98,\n",
       " 'c': 99,\n",
       " 'd': 100,\n",
       " 'e': 101,\n",
       " 'f': 102,\n",
       " 'g': 103,\n",
       " 'h': 104,\n",
       " 'i': 105,\n",
       " 'j': 106,\n",
       " 'k': 107,\n",
       " 'l': 108,\n",
       " 'm': 109,\n",
       " 'n': 110,\n",
       " 'o': 111,\n",
       " 'p': 112,\n",
       " 'q': 113,\n",
       " 'r': 114,\n",
       " 's': 115,\n",
       " 't': 116,\n",
       " 'u': 117,\n",
       " 'v': 118,\n",
       " 'w': 119,\n",
       " 'x': 120,\n",
       " 'y': 121,\n",
       " 'z': 122,\n",
       " '{': 123,\n",
       " '|': 124,\n",
       " '}': 125,\n",
       " '~': 126}"
      ]
     },
     "execution_count": 63,
     "metadata": {},
     "output_type": "execute_result"
    }
   ],
   "source": [
    "inverse_ascii_table = {b: a for a, b in ascii_table.items()}\n",
    "\n",
    "inverse_ascii_table"
   ]
  },
  {
   "cell_type": "markdown",
   "metadata": {
    "slideshow": {
     "slide_type": "subslide"
    }
   },
   "source": [
    "## Set Comprehensions\n",
    "\n",
    "* since **Python 3.0** (2008-12-03)\n",
    "* since **Python 2.7** (2010-07-03)"
   ]
  },
  {
   "cell_type": "markdown",
   "metadata": {
    "slideshow": {
     "slide_type": "fragment"
    }
   },
   "source": [
    "together with set literal syntax"
   ]
  },
  {
   "cell_type": "code",
   "execution_count": 64,
   "metadata": {},
   "outputs": [
    {
     "data": {
      "text/plain": [
       "{1, 2, 3}"
      ]
     },
     "execution_count": 64,
     "metadata": {},
     "output_type": "execute_result"
    }
   ],
   "source": [
    "{1, 2, 3}"
   ]
  },
  {
   "cell_type": "code",
   "execution_count": 65,
   "metadata": {
    "slideshow": {
     "slide_type": "fragment"
    }
   },
   "outputs": [
    {
     "data": {
      "text/plain": [
       "dict"
      ]
     },
     "execution_count": 65,
     "metadata": {},
     "output_type": "execute_result"
    }
   ],
   "source": [
    "type( {} )"
   ]
  },
  {
   "cell_type": "code",
   "execution_count": 66,
   "metadata": {},
   "outputs": [
    {
     "data": {
      "text/plain": [
       "set()"
      ]
     },
     "execution_count": 66,
     "metadata": {},
     "output_type": "execute_result"
    }
   ],
   "source": [
    "set()"
   ]
  },
  {
   "cell_type": "code",
   "execution_count": 67,
   "metadata": {
    "slideshow": {
     "slide_type": "subslide"
    }
   },
   "outputs": [
    {
     "data": {
      "text/plain": [
       "{1.0, 2.0, 3.0}"
      ]
     },
     "execution_count": 67,
     "metadata": {},
     "output_type": "execute_result"
    }
   ],
   "source": [
    "{i / 2 for i in [4, 6, 4, 2, 2]}"
   ]
  },
  {
   "cell_type": "markdown",
   "metadata": {
    "slideshow": {
     "slide_type": "slide"
    }
   },
   "source": [
    "### List comprehension vs. `map`/`filter`"
   ]
  },
  {
   "cell_type": "code",
   "execution_count": 68,
   "metadata": {},
   "outputs": [],
   "source": [
    "import this # PEP 20"
   ]
  },
  {
   "cell_type": "code",
   "execution_count": 69,
   "metadata": {
    "slideshow": {
     "slide_type": "skip"
    }
   },
   "outputs": [],
   "source": [
    "# i.e.\n",
    "import this"
   ]
  },
  {
   "cell_type": "markdown",
   "metadata": {
    "slideshow": {
     "slide_type": "subslide"
    }
   },
   "source": [
    "#### When expression and predicate are already defined as unary functions"
   ]
  },
  {
   "cell_type": "markdown",
   "metadata": {
    "slideshow": {
     "slide_type": "subslide"
    }
   },
   "source": [
    "```python\n",
    "    map(ord, sentence)\n",
    "```\n",
    "or\n",
    "```python\n",
    "    [ord(c) for c in sentence]\n",
    "```"
   ]
  },
  {
   "cell_type": "markdown",
   "metadata": {
    "slideshow": {
     "slide_type": "fragment"
    }
   },
   "source": [
    "slight preference for `map()`"
   ]
  },
  {
   "cell_type": "markdown",
   "metadata": {
    "slideshow": {
     "slide_type": "subslide"
    }
   },
   "source": [
    "```python\n",
    "    filter(str.isupper, sentence)\n",
    "```\n",
    "or\n",
    "```python\n",
    "    [c for c in sentence if c.isupper()]\n",
    "```"
   ]
  },
  {
   "cell_type": "markdown",
   "metadata": {
    "slideshow": {
     "slide_type": "fragment"
    }
   },
   "source": [
    "slight preference for `filter()`"
   ]
  },
  {
   "cell_type": "markdown",
   "metadata": {
    "slideshow": {
     "slide_type": "subslide"
    }
   },
   "source": [
    "```python\n",
    "    map(ord, filter(str.isupper, sentence))\n",
    "```\n",
    "or\n",
    "```python\n",
    "    [ord(c) for c in sentence if c.isupper()]\n",
    "```"
   ]
  },
  {
   "cell_type": "markdown",
   "metadata": {
    "slideshow": {
     "slide_type": "fragment"
    }
   },
   "source": [
    "> Flat is better than nested.\n",
    "\n",
    "&rarr; slight preference for list comprehension"
   ]
  },
  {
   "cell_type": "markdown",
   "metadata": {},
   "source": [
    "Unless ..."
   ]
  },
  {
   "cell_type": "markdown",
   "metadata": {
    "slideshow": {
     "slide_type": "fragment"
    }
   },
   "source": [
    "... there might be a better way to un-nest it\n",
    "```python\n",
    "    capital_letters = filter(str.isupper, sentence)\n",
    "    asciii_codes = map(ord, capital_letters)\n",
    "```"
   ]
  },
  {
   "cell_type": "markdown",
   "metadata": {
    "slideshow": {
     "slide_type": "subslide"
    }
   },
   "source": [
    "#### When expression and predicate _aren't_ already defined as unary functions"
   ]
  },
  {
   "cell_type": "markdown",
   "metadata": {
    "slideshow": {
     "slide_type": "subslide"
    }
   },
   "source": [
    "```python\n",
    "    def is_vowel(chr):\n",
    "        return chr in 'aeiou'\n",
    "\n",
    "    filter(is_vowel, sentence)\n",
    "```\n",
    "or\n",
    "```python    \n",
    "    filter(lambda c: c in 'aeiou', sentence)\n",
    "```\n",
    "or\n",
    "```python\n",
    "    [c for c in sentence if c in 'aeiou']\n",
    "```"
   ]
  },
  {
   "cell_type": "markdown",
   "metadata": {
    "slideshow": {
     "slide_type": "fragment"
    }
   },
   "source": [
    "slight preference for list comprehension"
   ]
  },
  {
   "cell_type": "markdown",
   "metadata": {
    "slideshow": {
     "slide_type": "subslide"
    }
   },
   "source": [
    "#### When expression and predicate _aren't_ already defined as unary functions"
   ]
  },
  {
   "cell_type": "markdown",
   "metadata": {
    "slideshow": {
     "slide_type": "fragment"
    }
   },
   "source": [
    "... and when we have **problems naming the functions properly** when defining them"
   ]
  },
  {
   "cell_type": "markdown",
   "metadata": {
    "slideshow": {
     "slide_type": "subslide"
    }
   },
   "source": [
    "```python\n",
    "    def booify(chr):\n",
    "        return f'B{chr}{chr}'\n",
    "\n",
    "    map(booify, sentence)\n",
    "```\n",
    "or\n",
    "```python\n",
    "    map(lambda c: f'B{c}{c}', sentence)\n",
    "```\n",
    "or\n",
    "```python\n",
    "    [f'B{c}{c}' for c in sentence]\n",
    "```"
   ]
  },
  {
   "cell_type": "markdown",
   "metadata": {
    "slideshow": {
     "slide_type": "fragment"
    }
   },
   "source": [
    "clear preference for list comprehension"
   ]
  },
  {
   "cell_type": "markdown",
   "metadata": {
    "slideshow": {
     "slide_type": "subslide"
    }
   },
   "source": [
    "```python\n",
    "    def is_vowel(chr):\n",
    "        return chr in 'aeiou'\n",
    "\n",
    "    def booify(chr):\n",
    "        return f'B{chr}{chr}'\n",
    "\n",
    "    map(booify, filter(is_vowel, sentence))\n",
    "```\n",
    "or\n",
    "```python\n",
    "    map(lambda c: f'B{c}{c}', filter(lambda c: c in 'aeiou', sentence))\n",
    "```\n",
    "or\n",
    "```python\n",
    "    [f'B{c}{c}' for c in sentence if c in 'aeiou']\n",
    "```"
   ]
  },
  {
   "cell_type": "markdown",
   "metadata": {
    "slideshow": {
     "slide_type": "fragment"
    }
   },
   "source": [
    "**very clear** preference for list comprehension"
   ]
  },
  {
   "cell_type": "code",
   "execution_count": 70,
   "metadata": {
    "slideshow": {
     "slide_type": "subslide"
    }
   },
   "outputs": [
    {
     "data": {
      "text/plain": [
       "<map at 0x7f61946f3438>"
      ]
     },
     "execution_count": 70,
     "metadata": {},
     "output_type": "execute_result"
    }
   ],
   "source": [
    "def is_vowel(chr):\n",
    "    return chr in 'aeiou'\n",
    "\n",
    "def booify(chr):\n",
    "    return f'B{chr}{chr}'\n",
    "\n",
    "map(booify, filter(is_vowel, sentence))"
   ]
  },
  {
   "cell_type": "markdown",
   "metadata": {
    "slideshow": {
     "slide_type": "notes"
    }
   },
   "source": [
    "So, what does this do, anyway?"
   ]
  },
  {
   "cell_type": "code",
   "execution_count": 71,
   "metadata": {},
   "outputs": [
    {
     "data": {
      "text/plain": [
       "['Buu',\n",
       " 'Bii',\n",
       " 'Boo',\n",
       " 'Baa',\n",
       " 'Baa',\n",
       " 'Bee',\n",
       " 'Baa',\n",
       " 'Bii',\n",
       " 'Boo',\n",
       " 'Bee',\n",
       " 'Buu',\n",
       " 'Bee',\n",
       " 'Baa',\n",
       " 'Bee',\n",
       " 'Bee',\n",
       " 'Bee',\n",
       " 'Bee',\n",
       " 'Buu',\n",
       " 'Baa']"
      ]
     },
     "execution_count": 71,
     "metadata": {},
     "output_type": "execute_result"
    }
   ],
   "source": [
    "list(_)"
   ]
  },
  {
   "cell_type": "markdown",
   "metadata": {
    "slideshow": {
     "slide_type": "notes"
    }
   },
   "source": [
    "(It takes the vovels of the sentence and creates kinda baby-speach from it.)"
   ]
  },
  {
   "cell_type": "code",
   "execution_count": 72,
   "metadata": {
    "slideshow": {
     "slide_type": "subslide"
    }
   },
   "outputs": [
    {
     "data": {
      "text/plain": [
       "['Buu',\n",
       " 'Bii',\n",
       " 'Boo',\n",
       " 'Baa',\n",
       " 'Baa',\n",
       " 'Bee',\n",
       " 'Baa',\n",
       " 'Bii',\n",
       " 'Boo',\n",
       " 'Bee',\n",
       " 'Buu',\n",
       " 'Bee',\n",
       " 'Baa',\n",
       " 'Bee',\n",
       " 'Bee',\n",
       " 'Bee',\n",
       " 'Bee',\n",
       " 'Buu',\n",
       " 'Baa']"
      ]
     },
     "execution_count": 72,
     "metadata": {},
     "output_type": "execute_result"
    }
   ],
   "source": [
    "[f'B{c}{c}' for c in sentence if c in 'aeiou']"
   ]
  },
  {
   "cell_type": "markdown",
   "metadata": {
    "slideshow": {
     "slide_type": "notes"
    }
   },
   "source": [
    "Off course, the list comprehension does the same."
   ]
  },
  {
   "cell_type": "markdown",
   "metadata": {
    "slideshow": {
     "slide_type": "slide"
    }
   },
   "source": [
    "<center>\n",
    "    github.com/das-g\n",
    "</center>\n",
    "\n",
    "<center>\n",
    "    gitlab.com/das-g\n",
    "</center>\n",
    "\n",
    "<center>\n",
    "    keybase.io/das_g\n",
    "</center>"
   ]
  }
 ],
 "metadata": {
  "celltoolbar": "Slideshow",
  "kernelspec": {
   "display_name": "Python 3",
   "language": "python",
   "name": "python3"
  },
  "language_info": {
   "codemirror_mode": {
    "name": "ipython",
    "version": 3
   },
   "file_extension": ".py",
   "mimetype": "text/x-python",
   "name": "python",
   "nbconvert_exporter": "python",
   "pygments_lexer": "ipython3",
   "version": "3.6.4"
  }
 },
 "nbformat": 4,
 "nbformat_minor": 2
}
