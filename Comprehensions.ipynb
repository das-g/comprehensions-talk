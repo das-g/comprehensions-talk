{
 "cells": [
  {
   "cell_type": "markdown",
   "metadata": {
    "slideshow": {
     "slide_type": "slide"
    }
   },
   "source": [
    "# Comprehensions"
   ]
  },
  {
   "cell_type": "markdown",
   "metadata": {
    "slideshow": {
     "slide_type": "fragment"
    }
   },
   "source": [
    "## Math"
   ]
  },
  {
   "cell_type": "markdown",
   "metadata": {},
   "source": [
    "### Set of square numbers:\n",
    "\n",
    "$$S := \\left\\{ 1, 4, 9, 16, 25, 36, \\ldots \\right\\}$$"
   ]
  },
  {
   "cell_type": "markdown",
   "metadata": {
    "slideshow": {
     "slide_type": "fragment"
    }
   },
   "source": [
    "$$S := \\left\\{ x^2 \\middle| x \\in \\mathbb{N}\\right\\}$$"
   ]
  },
  {
   "cell_type": "markdown",
   "metadata": {
    "slideshow": {
     "slide_type": "subslide"
    }
   },
   "source": [
    "$${\\large\n",
    "    \\begin{align}\n",
    "        S & \\underbrace{:=}_\\text{assignment}     \\left\\{ 1, 4, 9, 16, 25, 36, \\ldots \\right\\} \\\\\n",
    "        S &  \\overbrace{:=}_\\hphantom{assignment} \\left\\{ x^2 \\middle| x \\in \\mathbb{N}\\right\\}\n",
    "    \\end{align}\n",
    "}$$"
   ]
  },
  {
   "cell_type": "markdown",
   "metadata": {
    "slideshow": {
     "slide_type": "subslide"
    }
   },
   "source": [
    "$${\\large\n",
    "    \\begin{align}\n",
    "        \\underbrace{S}_\\text{set name}     & := \\overbrace{\\left\\{ 1, 4, 9, 16, 25, 36, \\ldots \\right\\} }^\\text{set definition} \\\\\n",
    "         \\overbrace{S}_\\hphantom{set_name} & := \\underbrace{\\left\\{ x^2 \\middle| x \\in \\mathbb{N}\\right\\}}_\\text{set definition}\n",
    "    \\end{align}\n",
    "}$$"
   ]
  }
 ],
 "metadata": {
  "celltoolbar": "Slideshow",
  "kernelspec": {
   "display_name": "Python 3",
   "language": "python",
   "name": "python3"
  },
  "language_info": {
   "codemirror_mode": {
    "name": "ipython",
    "version": 3
   },
   "file_extension": ".py",
   "mimetype": "text/x-python",
   "name": "python",
   "nbconvert_exporter": "python",
   "pygments_lexer": "ipython3",
   "version": "3.6.4"
  }
 },
 "nbformat": 4,
 "nbformat_minor": 2
}
